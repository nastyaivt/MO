{
  "cells": [
    {
      "cell_type": "markdown",
      "metadata": {
        "id": "view-in-github",
        "colab_type": "text"
      },
      "source": [
        "<a href=\"https://colab.research.google.com/github/nastyaivt/MO/blob/main/Lab01.ipynb\" target=\"_parent\"><img src=\"https://colab.research.google.com/assets/colab-badge.svg\" alt=\"Open In Colab\"/></a>"
      ]
    },
    {
      "cell_type": "markdown",
      "metadata": {
        "id": "e54d_dml8PqH"
      },
      "source": [
        "# Лабораторная работа №1\n",
        "## Анализ пассажиров корабля \"Титаник\"\n",
        "\n",
        "**Заполните недостающий код (\"You code here\")**"
      ]
    },
    {
      "cell_type": "code",
      "execution_count": 1,
      "metadata": {
        "id": "y6ELbhFy8PqJ"
      },
      "outputs": [],
      "source": [
        "import numpy as np\n",
        "import pandas as pd\n",
        "from matplotlib import pyplot as plt\n",
        "# Graphics in SVG format are more sharp and legible\n",
        "%config InlineBackend.figure_format = 'svg'\n",
        "pd.set_option(\"display.precision\", 2)"
      ]
    },
    {
      "cell_type": "markdown",
      "metadata": {
        "id": "QDX_cDuP8PqK"
      },
      "source": [
        "** Чтение данных в Pandas DataFrame**"
      ]
    },
    {
      "cell_type": "code",
      "execution_count": 2,
      "metadata": {
        "id": "7mwTmIVd8PqL"
      },
      "outputs": [],
      "source": [
        "data = pd.read_csv('titanic_train.csv',\n",
        "                  index_col='PassengerId')"
      ]
    },
    {
      "cell_type": "markdown",
      "metadata": {
        "id": "4sa7jiuc8PqL"
      },
      "source": [
        "**Первые 5 строк**"
      ]
    },
    {
      "cell_type": "code",
      "execution_count": null,
      "metadata": {
        "id": "Zl_DOZYX8PqL",
        "outputId": "6d0ce8b8-f39f-4156-e6a5-4736f8f203d0"
      },
      "outputs": [
        {
          "data": {
            "text/html": [
              "<div>\n",
              "<style scoped>\n",
              "    .dataframe tbody tr th:only-of-type {\n",
              "        vertical-align: middle;\n",
              "    }\n",
              "\n",
              "    .dataframe tbody tr th {\n",
              "        vertical-align: top;\n",
              "    }\n",
              "\n",
              "    .dataframe thead th {\n",
              "        text-align: right;\n",
              "    }\n",
              "</style>\n",
              "<table border=\"1\" class=\"dataframe\">\n",
              "  <thead>\n",
              "    <tr style=\"text-align: right;\">\n",
              "      <th></th>\n",
              "      <th>Survived</th>\n",
              "      <th>Pclass</th>\n",
              "      <th>Name</th>\n",
              "      <th>Sex</th>\n",
              "      <th>Age</th>\n",
              "      <th>SibSp</th>\n",
              "      <th>Parch</th>\n",
              "      <th>Ticket</th>\n",
              "      <th>Fare</th>\n",
              "      <th>Cabin</th>\n",
              "      <th>Embarked</th>\n",
              "    </tr>\n",
              "    <tr>\n",
              "      <th>PassengerId</th>\n",
              "      <th></th>\n",
              "      <th></th>\n",
              "      <th></th>\n",
              "      <th></th>\n",
              "      <th></th>\n",
              "      <th></th>\n",
              "      <th></th>\n",
              "      <th></th>\n",
              "      <th></th>\n",
              "      <th></th>\n",
              "      <th></th>\n",
              "    </tr>\n",
              "  </thead>\n",
              "  <tbody>\n",
              "    <tr>\n",
              "      <th>1</th>\n",
              "      <td>0</td>\n",
              "      <td>3</td>\n",
              "      <td>Braund, Mr. Owen Harris</td>\n",
              "      <td>male</td>\n",
              "      <td>22.0</td>\n",
              "      <td>1</td>\n",
              "      <td>0</td>\n",
              "      <td>A/5 21171</td>\n",
              "      <td>7.25</td>\n",
              "      <td>NaN</td>\n",
              "      <td>S</td>\n",
              "    </tr>\n",
              "    <tr>\n",
              "      <th>2</th>\n",
              "      <td>1</td>\n",
              "      <td>1</td>\n",
              "      <td>Cumings, Mrs. John Bradley (Florence Briggs Th...</td>\n",
              "      <td>female</td>\n",
              "      <td>38.0</td>\n",
              "      <td>1</td>\n",
              "      <td>0</td>\n",
              "      <td>PC 17599</td>\n",
              "      <td>71.28</td>\n",
              "      <td>C85</td>\n",
              "      <td>C</td>\n",
              "    </tr>\n",
              "    <tr>\n",
              "      <th>3</th>\n",
              "      <td>1</td>\n",
              "      <td>3</td>\n",
              "      <td>Heikkinen, Miss. Laina</td>\n",
              "      <td>female</td>\n",
              "      <td>26.0</td>\n",
              "      <td>0</td>\n",
              "      <td>0</td>\n",
              "      <td>STON/O2. 3101282</td>\n",
              "      <td>7.92</td>\n",
              "      <td>NaN</td>\n",
              "      <td>S</td>\n",
              "    </tr>\n",
              "    <tr>\n",
              "      <th>4</th>\n",
              "      <td>1</td>\n",
              "      <td>1</td>\n",
              "      <td>Futrelle, Mrs. Jacques Heath (Lily May Peel)</td>\n",
              "      <td>female</td>\n",
              "      <td>35.0</td>\n",
              "      <td>1</td>\n",
              "      <td>0</td>\n",
              "      <td>113803</td>\n",
              "      <td>53.10</td>\n",
              "      <td>C123</td>\n",
              "      <td>S</td>\n",
              "    </tr>\n",
              "    <tr>\n",
              "      <th>5</th>\n",
              "      <td>0</td>\n",
              "      <td>3</td>\n",
              "      <td>Allen, Mr. William Henry</td>\n",
              "      <td>male</td>\n",
              "      <td>35.0</td>\n",
              "      <td>0</td>\n",
              "      <td>0</td>\n",
              "      <td>373450</td>\n",
              "      <td>8.05</td>\n",
              "      <td>NaN</td>\n",
              "      <td>S</td>\n",
              "    </tr>\n",
              "  </tbody>\n",
              "</table>\n",
              "</div>"
            ],
            "text/plain": [
              "             Survived  Pclass  \\\n",
              "PassengerId                     \n",
              "1                   0       3   \n",
              "2                   1       1   \n",
              "3                   1       3   \n",
              "4                   1       1   \n",
              "5                   0       3   \n",
              "\n",
              "                                                          Name     Sex   Age  \\\n",
              "PassengerId                                                                    \n",
              "1                                      Braund, Mr. Owen Harris    male  22.0   \n",
              "2            Cumings, Mrs. John Bradley (Florence Briggs Th...  female  38.0   \n",
              "3                                       Heikkinen, Miss. Laina  female  26.0   \n",
              "4                 Futrelle, Mrs. Jacques Heath (Lily May Peel)  female  35.0   \n",
              "5                                     Allen, Mr. William Henry    male  35.0   \n",
              "\n",
              "             SibSp  Parch            Ticket   Fare Cabin Embarked  \n",
              "PassengerId                                                        \n",
              "1                1      0         A/5 21171   7.25   NaN        S  \n",
              "2                1      0          PC 17599  71.28   C85        C  \n",
              "3                0      0  STON/O2. 3101282   7.92   NaN        S  \n",
              "4                1      0            113803  53.10  C123        S  \n",
              "5                0      0            373450   8.05   NaN        S  "
            ]
          },
          "execution_count": 3,
          "metadata": {},
          "output_type": "execute_result"
        }
      ],
      "source": [
        "data.head(5)"
      ]
    },
    {
      "cell_type": "code",
      "execution_count": null,
      "metadata": {
        "id": "GaKsmnqo8PqM",
        "outputId": "b7a91d67-4c40-40c1-b689-67cd277b12f9"
      },
      "outputs": [
        {
          "data": {
            "text/html": [
              "<div>\n",
              "<style scoped>\n",
              "    .dataframe tbody tr th:only-of-type {\n",
              "        vertical-align: middle;\n",
              "    }\n",
              "\n",
              "    .dataframe tbody tr th {\n",
              "        vertical-align: top;\n",
              "    }\n",
              "\n",
              "    .dataframe thead th {\n",
              "        text-align: right;\n",
              "    }\n",
              "</style>\n",
              "<table border=\"1\" class=\"dataframe\">\n",
              "  <thead>\n",
              "    <tr style=\"text-align: right;\">\n",
              "      <th></th>\n",
              "      <th>Survived</th>\n",
              "      <th>Pclass</th>\n",
              "      <th>Age</th>\n",
              "      <th>SibSp</th>\n",
              "      <th>Parch</th>\n",
              "      <th>Fare</th>\n",
              "    </tr>\n",
              "  </thead>\n",
              "  <tbody>\n",
              "    <tr>\n",
              "      <th>count</th>\n",
              "      <td>891.00</td>\n",
              "      <td>891.00</td>\n",
              "      <td>714.00</td>\n",
              "      <td>891.00</td>\n",
              "      <td>891.00</td>\n",
              "      <td>891.00</td>\n",
              "    </tr>\n",
              "    <tr>\n",
              "      <th>mean</th>\n",
              "      <td>0.38</td>\n",
              "      <td>2.31</td>\n",
              "      <td>29.70</td>\n",
              "      <td>0.52</td>\n",
              "      <td>0.38</td>\n",
              "      <td>32.20</td>\n",
              "    </tr>\n",
              "    <tr>\n",
              "      <th>std</th>\n",
              "      <td>0.49</td>\n",
              "      <td>0.84</td>\n",
              "      <td>14.53</td>\n",
              "      <td>1.10</td>\n",
              "      <td>0.81</td>\n",
              "      <td>49.69</td>\n",
              "    </tr>\n",
              "    <tr>\n",
              "      <th>min</th>\n",
              "      <td>0.00</td>\n",
              "      <td>1.00</td>\n",
              "      <td>0.42</td>\n",
              "      <td>0.00</td>\n",
              "      <td>0.00</td>\n",
              "      <td>0.00</td>\n",
              "    </tr>\n",
              "    <tr>\n",
              "      <th>25%</th>\n",
              "      <td>0.00</td>\n",
              "      <td>2.00</td>\n",
              "      <td>20.12</td>\n",
              "      <td>0.00</td>\n",
              "      <td>0.00</td>\n",
              "      <td>7.91</td>\n",
              "    </tr>\n",
              "    <tr>\n",
              "      <th>50%</th>\n",
              "      <td>0.00</td>\n",
              "      <td>3.00</td>\n",
              "      <td>28.00</td>\n",
              "      <td>0.00</td>\n",
              "      <td>0.00</td>\n",
              "      <td>14.45</td>\n",
              "    </tr>\n",
              "    <tr>\n",
              "      <th>75%</th>\n",
              "      <td>1.00</td>\n",
              "      <td>3.00</td>\n",
              "      <td>38.00</td>\n",
              "      <td>1.00</td>\n",
              "      <td>0.00</td>\n",
              "      <td>31.00</td>\n",
              "    </tr>\n",
              "    <tr>\n",
              "      <th>max</th>\n",
              "      <td>1.00</td>\n",
              "      <td>3.00</td>\n",
              "      <td>80.00</td>\n",
              "      <td>8.00</td>\n",
              "      <td>6.00</td>\n",
              "      <td>512.33</td>\n",
              "    </tr>\n",
              "  </tbody>\n",
              "</table>\n",
              "</div>"
            ],
            "text/plain": [
              "       Survived  Pclass     Age   SibSp   Parch    Fare\n",
              "count    891.00  891.00  714.00  891.00  891.00  891.00\n",
              "mean       0.38    2.31   29.70    0.52    0.38   32.20\n",
              "std        0.49    0.84   14.53    1.10    0.81   49.69\n",
              "min        0.00    1.00    0.42    0.00    0.00    0.00\n",
              "25%        0.00    2.00   20.12    0.00    0.00    7.91\n",
              "50%        0.00    3.00   28.00    0.00    0.00   14.45\n",
              "75%        1.00    3.00   38.00    1.00    0.00   31.00\n",
              "max        1.00    3.00   80.00    8.00    6.00  512.33"
            ]
          },
          "execution_count": 4,
          "metadata": {},
          "output_type": "execute_result"
        }
      ],
      "source": [
        "data.describe()"
      ]
    },
    {
      "cell_type": "markdown",
      "metadata": {
        "id": "qUwYsJy28PqM"
      },
      "source": [
        "**Давайте выберем тех пассажиров, которые отправились в Cherbourg (Embarked = C) и заплатили > 200 фунтов за билет (fare > 200).**\n",
        "\n",
        "Убедитесь, что вы понимаете, как на самом деле работает эта конструкция."
      ]
    },
    {
      "cell_type": "code",
      "execution_count": null,
      "metadata": {
        "id": "4PgiinFE8PqM",
        "outputId": "1cbd97ab-b714-40e1-901e-03d9fe451221"
      },
      "outputs": [
        {
          "data": {
            "text/html": [
              "<div>\n",
              "<style scoped>\n",
              "    .dataframe tbody tr th:only-of-type {\n",
              "        vertical-align: middle;\n",
              "    }\n",
              "\n",
              "    .dataframe tbody tr th {\n",
              "        vertical-align: top;\n",
              "    }\n",
              "\n",
              "    .dataframe thead th {\n",
              "        text-align: right;\n",
              "    }\n",
              "</style>\n",
              "<table border=\"1\" class=\"dataframe\">\n",
              "  <thead>\n",
              "    <tr style=\"text-align: right;\">\n",
              "      <th></th>\n",
              "      <th>Survived</th>\n",
              "      <th>Pclass</th>\n",
              "      <th>Name</th>\n",
              "      <th>Sex</th>\n",
              "      <th>Age</th>\n",
              "      <th>SibSp</th>\n",
              "      <th>Parch</th>\n",
              "      <th>Ticket</th>\n",
              "      <th>Fare</th>\n",
              "      <th>Cabin</th>\n",
              "      <th>Embarked</th>\n",
              "    </tr>\n",
              "    <tr>\n",
              "      <th>PassengerId</th>\n",
              "      <th></th>\n",
              "      <th></th>\n",
              "      <th></th>\n",
              "      <th></th>\n",
              "      <th></th>\n",
              "      <th></th>\n",
              "      <th></th>\n",
              "      <th></th>\n",
              "      <th></th>\n",
              "      <th></th>\n",
              "      <th></th>\n",
              "    </tr>\n",
              "  </thead>\n",
              "  <tbody>\n",
              "    <tr>\n",
              "      <th>119</th>\n",
              "      <td>0</td>\n",
              "      <td>1</td>\n",
              "      <td>Baxter, Mr. Quigg Edmond</td>\n",
              "      <td>male</td>\n",
              "      <td>24.0</td>\n",
              "      <td>0</td>\n",
              "      <td>1</td>\n",
              "      <td>PC 17558</td>\n",
              "      <td>247.52</td>\n",
              "      <td>B58 B60</td>\n",
              "      <td>C</td>\n",
              "    </tr>\n",
              "    <tr>\n",
              "      <th>259</th>\n",
              "      <td>1</td>\n",
              "      <td>1</td>\n",
              "      <td>Ward, Miss. Anna</td>\n",
              "      <td>female</td>\n",
              "      <td>35.0</td>\n",
              "      <td>0</td>\n",
              "      <td>0</td>\n",
              "      <td>PC 17755</td>\n",
              "      <td>512.33</td>\n",
              "      <td>NaN</td>\n",
              "      <td>C</td>\n",
              "    </tr>\n",
              "    <tr>\n",
              "      <th>300</th>\n",
              "      <td>1</td>\n",
              "      <td>1</td>\n",
              "      <td>Baxter, Mrs. James (Helene DeLaudeniere Chaput)</td>\n",
              "      <td>female</td>\n",
              "      <td>50.0</td>\n",
              "      <td>0</td>\n",
              "      <td>1</td>\n",
              "      <td>PC 17558</td>\n",
              "      <td>247.52</td>\n",
              "      <td>B58 B60</td>\n",
              "      <td>C</td>\n",
              "    </tr>\n",
              "    <tr>\n",
              "      <th>312</th>\n",
              "      <td>1</td>\n",
              "      <td>1</td>\n",
              "      <td>Ryerson, Miss. Emily Borie</td>\n",
              "      <td>female</td>\n",
              "      <td>18.0</td>\n",
              "      <td>2</td>\n",
              "      <td>2</td>\n",
              "      <td>PC 17608</td>\n",
              "      <td>262.38</td>\n",
              "      <td>B57 B59 B63 B66</td>\n",
              "      <td>C</td>\n",
              "    </tr>\n",
              "    <tr>\n",
              "      <th>378</th>\n",
              "      <td>0</td>\n",
              "      <td>1</td>\n",
              "      <td>Widener, Mr. Harry Elkins</td>\n",
              "      <td>male</td>\n",
              "      <td>27.0</td>\n",
              "      <td>0</td>\n",
              "      <td>2</td>\n",
              "      <td>113503</td>\n",
              "      <td>211.50</td>\n",
              "      <td>C82</td>\n",
              "      <td>C</td>\n",
              "    </tr>\n",
              "  </tbody>\n",
              "</table>\n",
              "</div>"
            ],
            "text/plain": [
              "             Survived  Pclass  \\\n",
              "PassengerId                     \n",
              "119                 0       1   \n",
              "259                 1       1   \n",
              "300                 1       1   \n",
              "312                 1       1   \n",
              "378                 0       1   \n",
              "\n",
              "                                                        Name     Sex   Age  \\\n",
              "PassengerId                                                                  \n",
              "119                                 Baxter, Mr. Quigg Edmond    male  24.0   \n",
              "259                                         Ward, Miss. Anna  female  35.0   \n",
              "300          Baxter, Mrs. James (Helene DeLaudeniere Chaput)  female  50.0   \n",
              "312                               Ryerson, Miss. Emily Borie  female  18.0   \n",
              "378                                Widener, Mr. Harry Elkins    male  27.0   \n",
              "\n",
              "             SibSp  Parch    Ticket    Fare            Cabin Embarked  \n",
              "PassengerId                                                            \n",
              "119              0      1  PC 17558  247.52          B58 B60        C  \n",
              "259              0      0  PC 17755  512.33              NaN        C  \n",
              "300              0      1  PC 17558  247.52          B58 B60        C  \n",
              "312              2      2  PC 17608  262.38  B57 B59 B63 B66        C  \n",
              "378              0      2    113503  211.50              C82        C  "
            ]
          },
          "execution_count": 5,
          "metadata": {},
          "output_type": "execute_result"
        }
      ],
      "source": [
        "data[(data['Embarked'] == 'C') & (data.Fare > 200)].head()"
      ]
    },
    {
      "cell_type": "markdown",
      "metadata": {
        "id": "gQ2EjtO88PqN"
      },
      "source": [
        "** Мы можем отсортировать этих людей по тарифу (Fare) в порядке убывания. **"
      ]
    },
    {
      "cell_type": "code",
      "execution_count": null,
      "metadata": {
        "id": "e8wys28x8PqN",
        "outputId": "e8c50c20-b180-45c1-97a8-87e9a8e37df0"
      },
      "outputs": [
        {
          "data": {
            "text/html": [
              "<div>\n",
              "<style scoped>\n",
              "    .dataframe tbody tr th:only-of-type {\n",
              "        vertical-align: middle;\n",
              "    }\n",
              "\n",
              "    .dataframe tbody tr th {\n",
              "        vertical-align: top;\n",
              "    }\n",
              "\n",
              "    .dataframe thead th {\n",
              "        text-align: right;\n",
              "    }\n",
              "</style>\n",
              "<table border=\"1\" class=\"dataframe\">\n",
              "  <thead>\n",
              "    <tr style=\"text-align: right;\">\n",
              "      <th></th>\n",
              "      <th>Survived</th>\n",
              "      <th>Pclass</th>\n",
              "      <th>Name</th>\n",
              "      <th>Sex</th>\n",
              "      <th>Age</th>\n",
              "      <th>SibSp</th>\n",
              "      <th>Parch</th>\n",
              "      <th>Ticket</th>\n",
              "      <th>Fare</th>\n",
              "      <th>Cabin</th>\n",
              "      <th>Embarked</th>\n",
              "    </tr>\n",
              "    <tr>\n",
              "      <th>PassengerId</th>\n",
              "      <th></th>\n",
              "      <th></th>\n",
              "      <th></th>\n",
              "      <th></th>\n",
              "      <th></th>\n",
              "      <th></th>\n",
              "      <th></th>\n",
              "      <th></th>\n",
              "      <th></th>\n",
              "      <th></th>\n",
              "      <th></th>\n",
              "    </tr>\n",
              "  </thead>\n",
              "  <tbody>\n",
              "    <tr>\n",
              "      <th>259</th>\n",
              "      <td>1</td>\n",
              "      <td>1</td>\n",
              "      <td>Ward, Miss. Anna</td>\n",
              "      <td>female</td>\n",
              "      <td>35.0</td>\n",
              "      <td>0</td>\n",
              "      <td>0</td>\n",
              "      <td>PC 17755</td>\n",
              "      <td>512.33</td>\n",
              "      <td>NaN</td>\n",
              "      <td>C</td>\n",
              "    </tr>\n",
              "    <tr>\n",
              "      <th>680</th>\n",
              "      <td>1</td>\n",
              "      <td>1</td>\n",
              "      <td>Cardeza, Mr. Thomas Drake Martinez</td>\n",
              "      <td>male</td>\n",
              "      <td>36.0</td>\n",
              "      <td>0</td>\n",
              "      <td>1</td>\n",
              "      <td>PC 17755</td>\n",
              "      <td>512.33</td>\n",
              "      <td>B51 B53 B55</td>\n",
              "      <td>C</td>\n",
              "    </tr>\n",
              "    <tr>\n",
              "      <th>738</th>\n",
              "      <td>1</td>\n",
              "      <td>1</td>\n",
              "      <td>Lesurer, Mr. Gustave J</td>\n",
              "      <td>male</td>\n",
              "      <td>35.0</td>\n",
              "      <td>0</td>\n",
              "      <td>0</td>\n",
              "      <td>PC 17755</td>\n",
              "      <td>512.33</td>\n",
              "      <td>B101</td>\n",
              "      <td>C</td>\n",
              "    </tr>\n",
              "    <tr>\n",
              "      <th>312</th>\n",
              "      <td>1</td>\n",
              "      <td>1</td>\n",
              "      <td>Ryerson, Miss. Emily Borie</td>\n",
              "      <td>female</td>\n",
              "      <td>18.0</td>\n",
              "      <td>2</td>\n",
              "      <td>2</td>\n",
              "      <td>PC 17608</td>\n",
              "      <td>262.38</td>\n",
              "      <td>B57 B59 B63 B66</td>\n",
              "      <td>C</td>\n",
              "    </tr>\n",
              "    <tr>\n",
              "      <th>743</th>\n",
              "      <td>1</td>\n",
              "      <td>1</td>\n",
              "      <td>Ryerson, Miss. Susan Parker \"Suzette\"</td>\n",
              "      <td>female</td>\n",
              "      <td>21.0</td>\n",
              "      <td>2</td>\n",
              "      <td>2</td>\n",
              "      <td>PC 17608</td>\n",
              "      <td>262.38</td>\n",
              "      <td>B57 B59 B63 B66</td>\n",
              "      <td>C</td>\n",
              "    </tr>\n",
              "  </tbody>\n",
              "</table>\n",
              "</div>"
            ],
            "text/plain": [
              "             Survived  Pclass                                   Name     Sex  \\\n",
              "PassengerId                                                                    \n",
              "259                 1       1                       Ward, Miss. Anna  female   \n",
              "680                 1       1     Cardeza, Mr. Thomas Drake Martinez    male   \n",
              "738                 1       1                 Lesurer, Mr. Gustave J    male   \n",
              "312                 1       1             Ryerson, Miss. Emily Borie  female   \n",
              "743                 1       1  Ryerson, Miss. Susan Parker \"Suzette\"  female   \n",
              "\n",
              "              Age  SibSp  Parch    Ticket    Fare            Cabin Embarked  \n",
              "PassengerId                                                                  \n",
              "259          35.0      0      0  PC 17755  512.33              NaN        C  \n",
              "680          36.0      0      1  PC 17755  512.33      B51 B53 B55        C  \n",
              "738          35.0      0      0  PC 17755  512.33             B101        C  \n",
              "312          18.0      2      2  PC 17608  262.38  B57 B59 B63 B66        C  \n",
              "743          21.0      2      2  PC 17608  262.38  B57 B59 B63 B66        C  "
            ]
          },
          "execution_count": 6,
          "metadata": {},
          "output_type": "execute_result"
        }
      ],
      "source": [
        "data[(data['Embarked'] == 'C') &\n",
        "     (data['Fare'] > 200)].sort_values(by='Fare',\n",
        "                               ascending=False).head()"
      ]
    },
    {
      "cell_type": "markdown",
      "metadata": {
        "id": "k6IEMj1B8PqN"
      },
      "source": [
        "**Давайте добавим новый признак.**"
      ]
    },
    {
      "cell_type": "code",
      "execution_count": null,
      "metadata": {
        "id": "VT-3BQ208PqN"
      },
      "outputs": [],
      "source": [
        "def age_category(age):\n",
        "    '''\n",
        "    < 30 -> 1\n",
        "    >= 30, <55 -> 2\n",
        "    >= 55 -> 3\n",
        "    '''\n",
        "    if age < 30:\n",
        "        return 1\n",
        "    elif age < 55:\n",
        "        return 2\n",
        "    elif age >= 55:\n",
        "        return 3"
      ]
    },
    {
      "cell_type": "code",
      "execution_count": null,
      "metadata": {
        "id": "Wi9SNwlN8PqO"
      },
      "outputs": [],
      "source": [
        "age_categories = [age_category(age) for age in data.Age]\n",
        "data['Age_category'] = age_categories"
      ]
    },
    {
      "cell_type": "markdown",
      "metadata": {
        "id": "LyzBxpCF8PqO"
      },
      "source": [
        "**Другой способ сделать это с `apply`.**"
      ]
    },
    {
      "cell_type": "code",
      "execution_count": null,
      "metadata": {
        "id": "6mLBSrgh8PqO"
      },
      "outputs": [],
      "source": [
        "data['Age_category'] = data['Age'].apply(age_category)"
      ]
    },
    {
      "cell_type": "markdown",
      "metadata": {
        "id": "Um4eAaOe8PqO"
      },
      "source": [
        "**1. Сколько мужчин / женщин было на борту?**\n",
        "- 412 мужчин и 479 женщин\n",
        "- 314 мужчин и 577 женщин\n",
        "- 479 мужчин и 412 женщин\n",
        "- 577 мужчин и 314 женщин"
      ]
    },
    {
      "cell_type": "code",
      "execution_count": 5,
      "metadata": {
        "colab": {
          "base_uri": "https://localhost:8080/"
        },
        "id": "T3fxGTF18PqO",
        "outputId": "13ba6fa2-7070-4e43-a3af-fd28e1b18e9f"
      },
      "outputs": [
        {
          "output_type": "stream",
          "name": "stdout",
          "text": [
            "Количество пассажиров по полу:\n",
            "Мужчины: 577\n",
            "Женщины: 314\n"
          ]
        }
      ],
      "source": [
        "gender_counts = data['Sex'].value_counts()\n",
        "\n",
        "print(\"Количество пассажиров по полу:\")\n",
        "print(f\"Мужчины: {gender_counts.get('male', 0)}\")\n",
        "print(f\"Женщины: {gender_counts.get('female', 0)}\")"
      ]
    },
    {
      "cell_type": "markdown",
      "metadata": {
        "id": "NAgZYU4G8PqP"
      },
      "source": [
        "**2. Определите распределение функции `Pclass`. Теперь Для мужчин и женщин отдельно. Сколько людей из второго класса было на борту?**\n",
        "- 104\n",
        "- 108\n",
        "- 112\n",
        "- 125"
      ]
    },
    {
      "cell_type": "code",
      "execution_count": 26,
      "metadata": {
        "colab": {
          "base_uri": "https://localhost:8080/"
        },
        "id": "FWZxrDb-8PqP",
        "outputId": "f17d8cc8-0657-43d9-96b5-468a465480d7"
      },
      "outputs": [
        {
          "output_type": "stream",
          "name": "stdout",
          "text": [
            "Общее распределение по классам:\n",
            "Класс 1: 216 человек\n",
            "Класс 2: 184 человек\n",
            "Класс 3: 491 человек\n",
            "\n",
            "Распределение по классам для мужчин и женщин:\n",
            "\n",
            "Мужчины:\n",
            "  Класс 1: 122 человек\n",
            "  Класс 2: 108 человек\n",
            "  Класс 3: 347 человек\n",
            "\n",
            "Женщины:\n",
            "  Класс 1: 94 человек\n",
            "  Класс 2: 76 человек\n",
            "  Класс 3: 144 человек\n",
            "\n",
            "Всего людей из второго класса: 184\n",
            "Из них:\n",
            "  Мужчин: 108\n",
            "  Женщин: 76\n"
          ]
        }
      ],
      "source": [
        "print(\"Общее распределение по классам:\")\n",
        "class_distribution = data['Pclass'].value_counts().sort_index()\n",
        "for pclass, count in class_distribution.items():\n",
        "    print(f\"Класс {pclass}: {count} человек\")\n",
        "\n",
        "print(\"\\nРаспределение по классам для мужчин и женщин:\")\n",
        "gender_class_distribution = data.groupby(['Sex', 'Pclass']).size().unstack(fill_value=0)\n",
        "\n",
        "print(\"\\nМужчины:\")\n",
        "for pclass in sorted(data['Pclass'].unique()):\n",
        "    count = gender_class_distribution.loc['male', pclass] if 'male' in gender_class_distribution.index else 0\n",
        "    print(f\"  Класс {pclass}: {count} человек\")\n",
        "\n",
        "print(\"\\nЖенщины:\")\n",
        "for pclass in sorted(data['Pclass'].unique()):\n",
        "    count = gender_class_distribution.loc['female', pclass] if 'female' in gender_class_distribution.index else 0\n",
        "    print(f\"  Класс {pclass}: {count} человек\")\n",
        "\n",
        "second_class_total = data[data['Pclass'] == 2].shape[0]\n",
        "print(f\"\\nВсего людей из второго класса: {second_class_total}\")\n",
        "\n",
        "second_class_gender = data[data['Pclass'] == 2]['Sex'].value_counts()\n",
        "print(f\"Из них:\")\n",
        "print(f\"  Мужчин: {second_class_gender.get('male', 0)}\")\n",
        "print(f\"  Женщин: {second_class_gender.get('female', 0)}\")"
      ]
    },
    {
      "cell_type": "markdown",
      "metadata": {
        "id": "ErM_fL3x8PqP"
      },
      "source": [
        "**3. Каковы медиана и стандартное отклонение`Fare`?. Округлите до 2-х знаков после запятой.**\n",
        "- медиана 14,45, стандартное отклонение 49,69\n",
        "- медиана 15,1, стандартное отклонение 12,15\n",
        "- медиана 13,15, стандартное отклонение 35,3\n",
        "- Медиана 17,43, стандартное отклонение - 39,1."
      ]
    },
    {
      "cell_type": "code",
      "execution_count": 9,
      "metadata": {
        "colab": {
          "base_uri": "https://localhost:8080/"
        },
        "id": "f079yNtX8PqP",
        "outputId": "a5b5a1ea-9bce-4b88-8fe0-cc21b7013db9"
      },
      "outputs": [
        {
          "output_type": "stream",
          "name": "stdout",
          "text": [
            "Статистика стоимости билетов (Fare):\n",
            "Медиана: 14.45\n",
            "Стандартное отклонение: 49.69\n"
          ]
        }
      ],
      "source": [
        "median_fare = data['Fare'].median()\n",
        "std_fare = data['Fare'].std()\n",
        "\n",
        "median_fare_rounded = round(median_fare, 2)\n",
        "std_fare_rounded = round(std_fare, 2)\n",
        "\n",
        "print(\"Статистика стоимости билетов (Fare):\")\n",
        "print(f\"Медиана: {median_fare_rounded}\")\n",
        "print(f\"Стандартное отклонение: {std_fare_rounded}\")"
      ]
    },
    {
      "cell_type": "markdown",
      "metadata": {
        "id": "iQ4anNqm8PqP"
      },
      "source": [
        "** 4. Правда ли, что средний возраст выживших людей выше, чем у пассажиров, которые в конечном итоге умерли? **\n",
        "- Да\n",
        "- Нет\n"
      ]
    },
    {
      "cell_type": "code",
      "execution_count": 13,
      "metadata": {
        "colab": {
          "base_uri": "https://localhost:8080/"
        },
        "id": "E6z7VgTW8PqP",
        "outputId": "6c024978-f3a7-4c03-8195-0a03c768376d"
      },
      "outputs": [
        {
          "output_type": "stream",
          "name": "stdout",
          "text": [
            "Статистика возраста по статусу выживания:\n",
            "           mean  median  count\n",
            "Survived                      \n",
            "0         30.63    28.0    424\n",
            "1         28.34    28.0    290\n",
            "\n",
            "Средний возраст выживших: 28.34 лет\n",
            "Средний возраст погибших: 30.63 лет\n",
            "Разница: -2.29 лет\n",
            "\n",
            " НЕВЕРНО: Средний возраст выживших НИЖЕ или РАВЕН возрасту погибших\n"
          ]
        }
      ],
      "source": [
        "age_stats = data.groupby('Survived')['Age'].agg(['mean', 'median', 'count']).round(2)\n",
        "\n",
        "print(\"Статистика возраста по статусу выживания:\")\n",
        "print(age_stats)\n",
        "print()\n",
        "\n",
        "mean_survived = age_stats.loc[1, 'mean']\n",
        "mean_died = age_stats.loc[0, 'mean']\n",
        "\n",
        "print(f\"Средний возраст выживших: {mean_survived} лет\")\n",
        "print(f\"Средний возраст погибших: {mean_died} лет\")\n",
        "print(f\"Разница: {round(mean_survived - mean_died, 2)} лет\")\n",
        "\n",
        "if mean_survived > mean_died:\n",
        "    print(\"\\n ВЕРНО: Средний возраст выживших ВЫШЕ, чем у погибших\")\n",
        "else:\n",
        "    print(\"\\n НЕВЕРНО: Средний возраст выживших НИЖЕ или РАВЕН возрасту погибших\")"
      ]
    },
    {
      "cell_type": "markdown",
      "metadata": {
        "id": "Hy62Z8-u8PqP"
      },
      "source": [
        "**5. Это правда, что пассажиры моложе 30 лет. выжили чаще, чем те, кому больше 60 лет. Каковы доли выживших людей среди молодых и пожилых людей?**\n",
        "- 22,7% среди молодежи и 40,6% среди пожилых\n",
        "- 40,6% среди молодежи и 22,7% среди пожилых\n",
        "- 35,3% среди молодежи и 27,4% среди пожилых\n",
        "- 27,4% среди молодежи и 35,3% среди пожилых"
      ]
    },
    {
      "cell_type": "code",
      "execution_count": 14,
      "metadata": {
        "colab": {
          "base_uri": "https://localhost:8080/"
        },
        "id": "TCGsOm5O8PqQ",
        "outputId": "efa2a07d-d643-43ba-b0ba-19482d99f27e"
      },
      "outputs": [
        {
          "output_type": "stream",
          "name": "stdout",
          "text": [
            "Доля выживших среди пассажиров моложе 30 лет: 40.62%\n",
            "Доля выживших среди пассажиров старше 60 лет: 22.73%\n"
          ]
        }
      ],
      "source": [
        "young_passengers = data[data['Age'] < 30]\n",
        "old_passengers = data[data['Age'] > 60]\n",
        "\n",
        "young_survived = young_passengers[young_passengers['Survived'] == 1]\n",
        "old_survived = old_passengers[old_passengers['Survived'] == 1]\n",
        "\n",
        "young_survival_rate = len(young_survived) / len(young_passengers)\n",
        "old_survival_rate = len(old_survived) / len(old_passengers)\n",
        "\n",
        "print(f\"Доля выживших среди пассажиров моложе 30 лет: {young_survival_rate:.2%}\")\n",
        "print(f\"Доля выживших среди пассажиров старше 60 лет: {old_survival_rate:.2%}\")"
      ]
    },
    {
      "cell_type": "markdown",
      "metadata": {
        "id": "iKAXo_vd8PqQ"
      },
      "source": [
        "**6. Правда ли, что женщины выживали чаще мужчин? Каковы доли выживших людей среди мужчин и женщин?**\n",
        "- 30,2% среди мужчин и 46,2% среди женщин\n",
        "- 35,7% среди мужчин и 74,2% среди женщин\n",
        "- 21,1% среди мужчин и 46,2% среди женщин\n",
        "- 18,9% среди мужчин и 74,2% среди женщин"
      ]
    },
    {
      "cell_type": "code",
      "execution_count": 17,
      "metadata": {
        "colab": {
          "base_uri": "https://localhost:8080/"
        },
        "id": "JOAEDhoO8PqQ",
        "outputId": "bda89b3e-9088-410b-c0a9-aa08c7767502"
      },
      "outputs": [
        {
          "output_type": "stream",
          "name": "stdout",
          "text": [
            "Доля выживших среди мужчин: 18.89% (109/577)\n",
            "Доля выживших среди женщин: 74.20% (233/314)\n"
          ]
        }
      ],
      "source": [
        "male_passengers = data[data['Sex'] == 'male']\n",
        "female_passengers = data[data['Sex'] == 'female']\n",
        "\n",
        "male_survived = male_passengers[male_passengers['Survived'] == 1]\n",
        "female_survived = female_passengers[female_passengers['Survived'] == 1]\n",
        "\n",
        "male_survival_rate = len(male_survived) / len(male_passengers)\n",
        "female_survival_rate = len(female_survived) / len(female_passengers)\n",
        "\n",
        "print(f\"Доля выживших среди мужчин: {male_survival_rate:.2%} ({len(male_survived)}/{len(male_passengers)})\")\n",
        "print(f\"Доля выживших среди женщин: {female_survival_rate:.2%} ({len(female_survived)}/{len(female_passengers)})\")"
      ]
    },
    {
      "cell_type": "markdown",
      "metadata": {
        "id": "eASP9Wrq8PqQ"
      },
      "source": [
        "**7. Какое имя наиболее популярно среди пассажиров мужского пола?**\n",
        "- Charles\n",
        "- Thomas\n",
        "- William\n",
        "- John"
      ]
    },
    {
      "cell_type": "code",
      "execution_count": 24,
      "metadata": {
        "colab": {
          "base_uri": "https://localhost:8080/"
        },
        "id": "zdtcoOXk8PqQ",
        "outputId": "c8c43ee7-f987-494a-de17-7e9a3598aa86"
      },
      "outputs": [
        {
          "output_type": "stream",
          "name": "stdout",
          "text": [
            "William\n"
          ]
        }
      ],
      "source": [
        "male_passengers = data[data['Sex'] == 'male'].copy()\n",
        "\n",
        "def extract_first_name(full_name):\n",
        "    parts = full_name.split(', ')[1].split('. ')\n",
        "    if len(parts) > 1:\n",
        "        return parts[1].split()[0]\n",
        "    return parts[0].split()[0] if parts[0] else full_name\n",
        "\n",
        "male_passengers.loc[:, 'FirstName'] = male_passengers['Name'].apply(extract_first_name)\n",
        "\n",
        "name_counts = male_passengers['FirstName'].value_counts()\n",
        "\n",
        "most_common_name = name_counts.index[0]\n",
        "\n",
        "print(most_common_name)"
      ]
    },
    {
      "cell_type": "markdown",
      "metadata": {
        "id": "F8gfzgrs8PqQ"
      },
      "source": [
        "**8. Как средний возраст мужчин / женщин зависит от `Pclass`? Выберите все правильные утверждения:**\n",
        "- В среднем мужчины 1 класса старше 40 лет\n",
        "- В среднем женщины 1 класса старше 40 лет\n",
        "- Мужчины всех классов в среднем старше, чем женщины того же класса\n",
        "- В среднем, пассажиры первого класса старше, чем пассажиры 2-го класса, которые старше, чем пассажиры 3-го класса."
      ]
    },
    {
      "cell_type": "code",
      "execution_count": 25,
      "metadata": {
        "colab": {
          "base_uri": "https://localhost:8080/"
        },
        "id": "xP4E2XJH8PqR",
        "outputId": "529d9934-f79c-43dc-951d-315c4c86be89"
      },
      "outputs": [
        {
          "output_type": "stream",
          "name": "stdout",
          "text": [
            "Средний возраст по классам и полу:\n",
            "   Pclass     Sex    Age\n",
            "0       1  female  34.61\n",
            "1       1    male  41.28\n",
            "2       2  female  28.72\n",
            "3       2    male  30.74\n",
            "4       3  female  21.75\n",
            "5       3    male  26.51\n",
            "\n",
            "Верные утверждения:\n",
            "✓ В среднем мужчины 1 класса старше 40 лет\n",
            "✓ Мужчины всех классов в среднем старше, чем женщины того же класса\n",
            "✓ В среднем, пассажиры первого класса старше, чем пассажиры 2-го класса, которые старше, чем пассажиры 3-го класса\n"
          ]
        }
      ],
      "source": [
        "data_clean = data.dropna(subset=['Age'])\n",
        "\n",
        "age_stats = data_clean.groupby(['Pclass', 'Sex'])['Age'].mean().reset_index()\n",
        "\n",
        "print(\"Средний возраст по классам и полу:\")\n",
        "print(age_stats)\n",
        "print()\n",
        "\n",
        "result1 = age_stats[(age_stats['Pclass'] == 1) & (age_stats['Sex'] == 'male')]['Age'].values[0] > 40\n",
        "result2 = age_stats[(age_stats['Pclass'] == 1) & (age_stats['Sex'] == 'female')]['Age'].values[0] > 40\n",
        "\n",
        "men_older = True\n",
        "for pclass in [1, 2, 3]:\n",
        "    male_age = age_stats[(age_stats['Pclass'] == pclass) & (age_stats['Sex'] == 'male')]['Age'].values[0]\n",
        "    female_age = age_stats[(age_stats['Pclass'] == pclass) & (age_stats['Sex'] == 'female')]['Age'].values[0]\n",
        "    if male_age <= female_age:\n",
        "        men_older = False\n",
        "        break\n",
        "\n",
        "class_order = True\n",
        "for sex in ['male', 'female']:\n",
        "    age1 = age_stats[(age_stats['Pclass'] == 1) & (age_stats['Sex'] == sex)]['Age'].values[0]\n",
        "    age2 = age_stats[(age_stats['Pclass'] == 2) & (age_stats['Sex'] == sex)]['Age'].values[0]\n",
        "    age3 = age_stats[(age_stats['Pclass'] == 3) & (age_stats['Sex'] == sex)]['Age'].values[0]\n",
        "    if not (age1 > age2 > age3):\n",
        "        class_order = False\n",
        "        break\n",
        "\n",
        "print(\"Верные утверждения:\")\n",
        "if result1:\n",
        "    print(\"✓ В среднем мужчины 1 класса старше 40 лет\")\n",
        "if result2:\n",
        "    print(\"✓ В среднем женщины 1 класса старше 40 лет\")\n",
        "if men_older:\n",
        "    print(\"✓ Мужчины всех классов в среднем старше, чем женщины того же класса\")\n",
        "if class_order:\n",
        "    print(\"✓ В среднем, пассажиры первого класса старше, чем пассажиры 2-го класса, которые старше, чем пассажиры 3-го класса\")"
      ]
    },
    {
      "cell_type": "markdown",
      "metadata": {
        "id": "-3RQBGJE8PqR"
      },
      "source": [
        "\n",
        "Author: [Yury Kashnitsky](https://yorko.github.io). This material is subject to the terms and conditions of the [Creative Commons CC BY-NC-SA 4.0](https://creativecommons.org/licenses/by-nc-sa/4.0/) license. Free use is permitted for any non-commercial purpose."
      ]
    }
  ],
  "metadata": {
    "anaconda-cloud": {},
    "kernelspec": {
      "display_name": "Python 3",
      "language": "python",
      "name": "python3"
    },
    "language_info": {
      "codemirror_mode": {
        "name": "ipython",
        "version": 3
      },
      "file_extension": ".py",
      "mimetype": "text/x-python",
      "name": "python",
      "nbconvert_exporter": "python",
      "pygments_lexer": "ipython3",
      "version": "3.8.12"
    },
    "name": "seminar02_practice_pandas_titanic.ipynb",
    "colab": {
      "provenance": [],
      "include_colab_link": true
    }
  },
  "nbformat": 4,
  "nbformat_minor": 0
}